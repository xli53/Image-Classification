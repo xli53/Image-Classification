{
  "nbformat": 4,
  "nbformat_minor": 0,
  "metadata": {
    "colab": {
      "name": "Project 5: Image Classification.ipynb",
      "provenance": [],
      "collapsed_sections": []
    },
    "kernelspec": {
      "name": "python3",
      "display_name": "Python 3"
    },
    "accelerator": "GPU"
  },
  "cells": [
    {
      "cell_type": "markdown",
      "metadata": {
        "id": "OML8yl-q8bMI",
        "colab_type": "text"
      },
      "source": [
        "# Image Classification"
      ]
    },
    {
      "cell_type": "markdown",
      "metadata": {
        "id": "ooH5J3rXFjp_",
        "colab_type": "text"
      },
      "source": [
        "Part 0: Set Up Environment\n",
        "\n",
        "Part 1: Load Data\n",
        "\n",
        "Part 2: Explore Data\n",
        "\n",
        "Part 3: Preprocess Data\n",
        "\n",
        "Part 4: Build the Model\n",
        "\n",
        "Part 5: Train the Neural Network\n",
        "\n",
        "Part 6: Test the Model"
      ]
    },
    {
      "cell_type": "markdown",
      "metadata": {
        "id": "lgR2vZuLk21l",
        "colab_type": "text"
      },
      "source": [
        "## Part 0: Set Up Environment\n",
        "[CIFAR-10 dataset](https://www.cs.toronto.edu/~kriz/cifar-10-python.tar.gz): Labeled subsets of the 80 million tiny images dataset."
      ]
    },
    {
      "cell_type": "code",
      "metadata": {
        "id": "sMRXr_K39Hka",
        "colab_type": "code",
        "outputId": "80b71c28-945a-416e-d7ea-1c770557ba7b",
        "colab": {
          "base_uri": "https://localhost:8080/",
          "height": 425
        }
      },
      "source": [
        "!ps -aux\n",
        "# !kill -9 1356\n",
        "!ln -sf /opt/bin/nvidia-smi /usr/bin/nvidia-smi\n",
        "!nvidia-smi\n",
        "\n",
        "# OOM out of memory\n",
        "# !top"
      ],
      "execution_count": 0,
      "outputs": [
        {
          "output_type": "stream",
          "text": [
            "USER         PID %CPU %MEM    VSZ   RSS TTY      STAT START   TIME COMMAND\n",
            "root           1  0.0  0.0  39192  6460 ?        Ss   23:21   0:00 /bin/bash -e \n",
            "root           9  0.2  0.3 681660 46408 ?        Sl   23:21   0:00 /tools/node/b\n",
            "root          19  0.8  0.7 402904 98068 ?        Sl   23:21   0:01 /usr/bin/pyth\n",
            "root         119  0.0  0.0  35884  4744 ?        Ss   23:21   0:00 tail -n +0 -F\n",
            "root         128  5.3  1.1 648572 152588 ?       Ssl  23:23   0:04 /usr/bin/pyth\n",
            "root         178  0.0  0.0  59028  6464 ?        R    23:25   0:00 ps -aux\n",
            "Sun Nov  3 23:25:08 2019       \n",
            "+-----------------------------------------------------------------------------+\n",
            "| NVIDIA-SMI 418.67       Driver Version: 418.67       CUDA Version: 10.1     |\n",
            "|-------------------------------+----------------------+----------------------+\n",
            "| GPU  Name        Persistence-M| Bus-Id        Disp.A | Volatile Uncorr. ECC |\n",
            "| Fan  Temp  Perf  Pwr:Usage/Cap|         Memory-Usage | GPU-Util  Compute M. |\n",
            "|===============================+======================+======================|\n",
            "|   0  Tesla K80           Off  | 00000000:00:04.0 Off |                    0 |\n",
            "| N/A   34C    P8    28W / 149W |      0MiB / 11441MiB |      0%      Default |\n",
            "+-------------------------------+----------------------+----------------------+\n",
            "                                                                               \n",
            "+-----------------------------------------------------------------------------+\n",
            "| Processes:                                                       GPU Memory |\n",
            "|  GPU       PID   Type   Process name                             Usage      |\n",
            "|=============================================================================|\n",
            "|  No running processes found                                                 |\n",
            "+-----------------------------------------------------------------------------+\n"
          ],
          "name": "stdout"
        }
      ]
    },
    {
      "cell_type": "code",
      "metadata": {
        "id": "bZB2tfOHFRbY",
        "colab_type": "code",
        "outputId": "78b1515c-b551-4899-adb1-0ea1176ed238",
        "colab": {
          "base_uri": "https://localhost:8080/",
          "height": 68
        }
      },
      "source": [
        "!ls cifar-10-batches-py\n",
        "!pwd"
      ],
      "execution_count": 0,
      "outputs": [
        {
          "output_type": "stream",
          "text": [
            "batches.meta  data_batch_2  data_batch_4  readme.html\n",
            "data_batch_1  data_batch_3  data_batch_5  test_batch\n",
            "/content\n"
          ],
          "name": "stdout"
        }
      ]
    },
    {
      "cell_type": "code",
      "metadata": {
        "id": "61lIlTy88bML",
        "colab_type": "code",
        "colab": {}
      },
      "source": [
        "# urlretrieve lib: copy a network object denoted by a URL to a local file, if necessary\n",
        "# tarfile lib: makes it possible to read and write tar archives, including those using gzip or bz2 compression.\n",
        "# tqdm lib: Fast, Extensible Progress Meter\n",
        "\n",
        "from urllib.request import urlretrieve\n",
        "from os.path import isfile, isdir\n",
        "import tarfile\n",
        "\n",
        "cifar10_dataset_folder_path = 'cifar-10-batches-py'\n",
        "\n",
        "\"\"\" \n",
        "    check if the data (zip) file is already downloaded\n",
        "    if not, download it from \"https://www.cs.toronto.edu/~kriz/cifar-10-python.tar.gz\" and save as cifar-10-python.tar.gz\n",
        "\"\"\"\n",
        "if not isfile('cifar-10-python.tar.gz'):\n",
        "    print('downloading dataset...')\n",
        "    urlretrieve(\n",
        "        'https://www.cs.toronto.edu/~kriz/cifar-10-python.tar.gz',\n",
        "        'cifar-10-python.tar.gz')\n",
        "\n",
        "if not isdir(cifar10_dataset_folder_path):\n",
        "    print('untar dataset...')\n",
        "    with tarfile.open('cifar-10-python.tar.gz') as tar:\n",
        "        tar.extractall()\n",
        "        tar.close()\n"
      ],
      "execution_count": 0,
      "outputs": []
    },
    {
      "cell_type": "code",
      "metadata": {
        "id": "NlUooH5-8bMU",
        "colab_type": "code",
        "colab": {}
      },
      "source": [
        "# python pickle: implements binary protocols for serializing and de-serializing a Python object structure.\n",
        "import pickle\n",
        "import numpy as np\n",
        "import matplotlib.pyplot as plt"
      ],
      "execution_count": 0,
      "outputs": []
    },
    {
      "cell_type": "markdown",
      "metadata": {
        "id": "coyUX4_rmbwH",
        "colab_type": "text"
      },
      "source": [
        "## Part 1: Load Data"
      ]
    },
    {
      "cell_type": "markdown",
      "metadata": {
        "id": "0gSPiiBr8bMX",
        "colab_type": "text"
      },
      "source": [
        "The dataset is broken into batches to **prevent** machine from running **out of memory**. The CIFAR-10 dataset consists of 5 batches, named `data_batch_1`, `data_batch_2`, etc..\n",
        "\n",
        "\n",
        "Original data:\n",
        "\n",
        "\n",
        "*   (10000 x 3072) dimensional tensor, numpy array\n",
        "*   1000 sample data\n",
        "*   3072 represents an color image of 32 x 32 pixels (= 32 x 32 x 3)\n",
        "*   10 classes\n",
        "\n",
        "\n",
        "In order to feed an image data into a CNN model, the dimension of the tensor representing an image data should be either (width x height x num_channel) or (num_channel x width x height). (The first one is the default one in TensorFlow)"
      ]
    },
    {
      "cell_type": "code",
      "metadata": {
        "id": "hw0tp4oR8bMY",
        "colab_type": "code",
        "colab": {}
      },
      "source": [
        "def load_label_names():\n",
        "    return ['airplane', 'automobile', 'bird', 'cat', 'deer', 'dog', 'frog', 'horse', 'ship', 'truck']"
      ],
      "execution_count": 0,
      "outputs": []
    },
    {
      "cell_type": "markdown",
      "metadata": {
        "id": "Z-vOcxsx8bMa",
        "colab_type": "text"
      },
      "source": [
        "Reshape (3072):\n",
        "\n",
        "Step 1. Reshape:\n",
        "\n",
        "*   Divide the row vector (3072) into 3 pieces. Each piece corresponds to the each channels.\n",
        "  - This results in (3 x 1024) dimension of tensor\n",
        "\n",
        "*   Divide the resulting tensor from the previous step with 32. 32 here means width of an image.\n",
        "  - This results in (3 x 32 x 32)\n",
        "\n",
        "reshape(10000, 3, 32, 32): (num_channel, width, height)\n",
        "\n",
        "Step 2. Transpose:\n",
        "\n",
        "  transpose(1, 2, 0): (num_channel, width, height) --> (width, height, num_channel)\n",
        "\n",
        "<img src=\"https://raw.githubusercontent.com/deep-diver/CIFAR10-img-classification-tensorflow/master/reshape-transpose.png\" alt=\"Drawing\" style=\"width: 800px;\"/>"
      ]
    },
    {
      "cell_type": "code",
      "metadata": {
        "id": "aG37xdbO8bMb",
        "colab_type": "code",
        "colab": {}
      },
      "source": [
        "def load_cfar10_batch(cifar10_dataset_folder_path, batch_id):\n",
        "    with open(cifar10_dataset_folder_path + '/data_batch_' + str(batch_id), mode='rb') as file:\n",
        "        # note the encoding type is 'latin1'\n",
        "        batch = pickle.load(file, encoding='latin1')\n",
        "        print(batch)\n",
        "        \n",
        "    features = batch['data'].reshape((len(batch['data']), 3, 32, 32)).transpose(0, 2, 3, 1)\n",
        "    labels = batch['labels']\n",
        "        \n",
        "    return features, labels"
      ],
      "execution_count": 0,
      "outputs": []
    },
    {
      "cell_type": "markdown",
      "metadata": {
        "id": "jwca_e8x8bMf",
        "colab_type": "text"
      },
      "source": [
        "## Part 2: Explore Data\n"
      ]
    },
    {
      "cell_type": "markdown",
      "metadata": {
        "id": "FooVI_GfwaRN",
        "colab_type": "text"
      },
      "source": [
        "The display_stats defined below answers some of questions like in a given batch of data.\n",
        "- \"What are all possible labels?\"\n",
        "- \"What is the range of values for the image data?\"\n",
        "- \"Are the labels in order or random?\""
      ]
    },
    {
      "cell_type": "code",
      "metadata": {
        "id": "T6ShT7tP8bMf",
        "colab_type": "code",
        "colab": {}
      },
      "source": [
        "# sample_id: the id for a image and label pair in the batch\n",
        "\n",
        "def display_stats(cifar10_dataset_folder_path, batch_id, sample_id):\n",
        "    features, labels = load_cfar10_batch(cifar10_dataset_folder_path, batch_id)\n",
        "    \n",
        "    if not (0 <= sample_id < len(features)):\n",
        "        print('{} samples in batch {}.  {} is out of range.'.format(len(features), batch_id, sample_id))\n",
        "        return None\n",
        "\n",
        "    print('\\nStats of batch #{}:'.format(batch_id))\n",
        "    print('# of Samples: {}\\n'.format(len(features)))\n",
        "    \n",
        "    label_names = load_label_names()\n",
        "    label_counts = dict(zip(*np.unique(labels, return_counts=True)))\n",
        "    for key, value in label_counts.items():\n",
        "        print('Label Counts of [{}]({}) : {}'.format(key, label_names[key].upper(), value))\n",
        "    \n",
        "    sample_image = features[sample_id]\n",
        "    sample_label = labels[sample_id]\n",
        "    \n",
        "    print('\\nExample of Image {}:'.format(sample_id))\n",
        "    print('Image - Min Value: {} Max Value: {}'.format(sample_image.min(), sample_image.max()))\n",
        "    print('Image - Shape: {}'.format(sample_image.shape))\n",
        "    print('Label - Label Id: {} Name: {}'.format(sample_label, label_names[sample_label]))\n",
        "    \n",
        "    plt.imshow(sample_image)"
      ],
      "execution_count": 0,
      "outputs": []
    },
    {
      "cell_type": "code",
      "metadata": {
        "id": "TimExWP98bMj",
        "colab_type": "code",
        "colab": {}
      },
      "source": [
        "%matplotlib inline\n",
        "%config InlineBackend.figure_format = 'retina'\n",
        "\n",
        "import numpy as np\n",
        "\n",
        "# Explore the dataset\n",
        "batch_id = 3\n",
        "sample_id = 7001\n",
        "display_stats(cifar10_dataset_folder_path, batch_id, sample_id)"
      ],
      "execution_count": 0,
      "outputs": []
    },
    {
      "cell_type": "markdown",
      "metadata": {
        "id": "XApPnHNa8bMm",
        "colab_type": "text"
      },
      "source": [
        "## Part 3: Preprocess Data"
      ]
    },
    {
      "cell_type": "markdown",
      "metadata": {
        "id": "udjYmrRpuDaG",
        "colab_type": "text"
      },
      "source": [
        "### Part 3.1 Min-Max Normalization"
      ]
    },
    {
      "cell_type": "markdown",
      "metadata": {
        "id": "U3hixwTDuMmf",
        "colab_type": "text"
      },
      "source": [
        "**The images need to be normalized:**\n",
        "\n",
        "- this simply makes all x values to range between 0 and 1.\n",
        "- y = (x-min) / (max-min)\n",
        "\n",
        "Reason:\n",
        "\n",
        "1) Sigmoid activation function takes an input value and outputs a new value ranging from 0 to 1. When the input value is somewhat large, the output value easily reaches the max value 1. Similarily, when the input value is somewhat small, the output value easily reaches the max value 0. \n",
        "\n",
        "2) ReLU activation function takes an input value and outputs a new value ranging from 0 to infinity. When the input value is somewhat large, the output value increases linearly. However, when the input value is somewhat small, the output value easily reaches the max value 0. \n",
        "\n",
        "\n",
        "Now, when we think about the image data, all values originally ranges from 0 to 255. This sounds like when it is passed into sigmoid function, the output is almost always 1, and when it is passed into ReLu function, the output could be very huge. When backpropagation process is performed to optimize the networks, this could lead to an exploding gradient which leads to an aweful learning steps. In order to avoid this issue, ideally, it is better let all the values be around 0 and 1."
      ]
    },
    {
      "cell_type": "code",
      "metadata": {
        "id": "2y57EpD98bMn",
        "colab_type": "code",
        "colab": {}
      },
      "source": [
        "def normalize(x):\n",
        "    \"\"\"\n",
        "        argument\n",
        "            - x: input image data in numpy array [32, 32, 3]\n",
        "        return\n",
        "            - normalized x \n",
        "    \"\"\"\n",
        "    min_val = np.min(x)\n",
        "    max_val = np.max(x)\n",
        "    x = (x-min_val) / (max_val-min_val)\n",
        "    return x"
      ],
      "execution_count": 0,
      "outputs": []
    },
    {
      "cell_type": "markdown",
      "metadata": {
        "id": "grpTwC6NuPDE",
        "colab_type": "text"
      },
      "source": [
        "### Part 3.2: One-hot Encode"
      ]
    },
    {
      "cell_type": "markdown",
      "metadata": {
        "id": "KevJpvnw8bMr",
        "colab_type": "text"
      },
      "source": [
        "**The labels need to be one-hot encoded:**\n",
        "\n",
        "Since the output of our model is going to show the probabilities of where an image should be categorized as a prediction. There should be a vector having the same number of elements as the number of image classes. For instance, CIFAR-10 provides 10 different classes of image, so we need a vector in size of 10 as well. Each element represents the predicting probability of each classes.\n",
        "\n",
        "Also, our model should be able to compare the prediction with the ground truth label. It means the shape of the label data should also be transformed into a vector in size of 10 too. Instead, because label is the ground truth, we set the value 1 to the corresponding element.\n",
        "\n",
        "**`one_hot_encode`** function takes the input, **`x`**, which is a list of labels(ground truth). The total number of element in the list is the total number of samples in a batch. **`one_hot_encode`** function returns a 2 dimensional tensor, where the number of row is the size of the batch, and the number of column is the number of image classes."
      ]
    },
    {
      "cell_type": "code",
      "metadata": {
        "id": "WSqEAs368bMs",
        "colab_type": "code",
        "colab": {}
      },
      "source": [
        "def one_hot_encode(x, num_classes=10):\n",
        "    \"\"\"\n",
        "        argument\n",
        "            - x: a list of labels\n",
        "        return\n",
        "            - one hot encoding matrix (number of labels, number of class)\n",
        "    \"\"\"\n",
        "    encoded = np.zeros((len(x), num_classes))\n",
        "    \n",
        "    for idx, val in enumerate(x):\n",
        "        encoded[idx][val] = 1\n",
        "    \n",
        "    return encoded"
      ],
      "execution_count": 0,
      "outputs": []
    },
    {
      "cell_type": "markdown",
      "metadata": {
        "id": "BbMBKd298bMv",
        "colab_type": "text"
      },
      "source": [
        "### Part 3.3: Preprocess All the Data and Save it"
      ]
    },
    {
      "cell_type": "markdown",
      "metadata": {
        "id": "E6DzZuVHuawe",
        "colab_type": "text"
      },
      "source": [
        "Running the code cell below will preprocess all the CIFAR-10 data and save it to file. The code below also uses 10% of the training data for validation. \n",
        "\n",
        "<img src=\"https://raw.githubusercontent.com/deep-diver/CIFAR10-img-classification-tensorflow/master/train-valid-test%20split.png\" alt=\"Drawing\" style=\"width: 700px;\"/>"
      ]
    },
    {
      "cell_type": "code",
      "metadata": {
        "id": "fuSNv7S_8bMv",
        "colab_type": "code",
        "colab": {}
      },
      "source": [
        "def _preprocess_and_save(normalize, one_hot_encode, features, labels, filename):\n",
        "    features = normalize(features)\n",
        "    labels = one_hot_encode(labels)\n",
        "    print(labels)\n",
        "\n",
        "    pickle.dump((features, labels), open(filename, 'wb'))\n",
        "\n",
        "\n",
        "def preprocess_and_save_data(cifar10_dataset_folder_path, normalize, one_hot_encode):\n",
        "    n_batches = 5\n",
        "    valid_features = []\n",
        "    valid_labels = []\n",
        "\n",
        "    for batch_i in range(1, n_batches + 1):\n",
        "        features, labels = load_cfar10_batch(cifar10_dataset_folder_path, batch_i)\n",
        "        \n",
        "        # find index to be the point as validation data in the whole dataset of the batch (10%)\n",
        "        index_of_validation = int(len(features) * 0.1)\n",
        "\n",
        "        # preprocess the 90% of the whole dataset of the batch\n",
        "        # - normalize the features\n",
        "        # - one_hot_encode the lables\n",
        "        # - save in a new file named, \"preprocess_batch_\" + batch_number\n",
        "        # - each file for each batch\n",
        "        _preprocess_and_save(normalize, one_hot_encode,\n",
        "                             features[:-index_of_validation], labels[:-index_of_validation], \n",
        "                             'preprocess_batch_' + str(batch_i) + '.p')\n",
        "\n",
        "        # unlike the training dataset, validation dataset will be added through all batch dataset\n",
        "        # - take 10% of the whold dataset of the batch\n",
        "        # - add them into a list of\n",
        "        #   - valid_features\n",
        "        #   - valid_labels\n",
        "        valid_features.extend(features[-index_of_validation:])\n",
        "        valid_labels.extend(labels[-index_of_validation:])\n",
        "\n",
        "    # preprocess the all stacked validation dataset\n",
        "    _preprocess_and_save(normalize, one_hot_encode,\n",
        "                         np.array(valid_features), np.array(valid_labels),\n",
        "                         'preprocess_validation.p')\n",
        "\n",
        "    # load the test dataset\n",
        "    with open(cifar10_dataset_folder_path + '/test_batch', mode='rb') as file:\n",
        "        batch = pickle.load(file, encoding='latin1')\n",
        "\n",
        "    # preprocess the testing data\n",
        "    test_features = batch['data'].reshape((len(batch['data']), 3, 32, 32)).transpose(0, 2, 3, 1)\n",
        "    test_labels = batch['labels']\n",
        "\n",
        "    # Preprocess and Save all testing data\n",
        "    _preprocess_and_save(normalize, one_hot_encode,\n",
        "                         np.array(test_features), np.array(test_labels),\n",
        "                         'preprocess_training.p')"
      ],
      "execution_count": 0,
      "outputs": []
    },
    {
      "cell_type": "code",
      "metadata": {
        "id": "3y-P62wK8bMy",
        "colab_type": "code",
        "colab": {}
      },
      "source": [
        "preprocess_and_save_data(cifar10_dataset_folder_path, normalize, one_hot_encode)"
      ],
      "execution_count": 0,
      "outputs": []
    },
    {
      "cell_type": "code",
      "metadata": {
        "id": "MC2QLaQ08bM5",
        "colab_type": "code",
        "colab": {}
      },
      "source": [
        "# Checkpoint\n",
        "import pickle\n",
        "\n",
        "valid_features, valid_labels = pickle.load(open('preprocess_validation.p', mode='rb'))\n",
        "#print(valid_features)\n",
        "#print(valid_labels)"
      ],
      "execution_count": 0,
      "outputs": []
    },
    {
      "cell_type": "markdown",
      "metadata": {
        "id": "3vqiaUENwKUF",
        "colab_type": "text"
      },
      "source": [
        "## Part 4: Build the Model"
      ]
    },
    {
      "cell_type": "markdown",
      "metadata": {
        "id": "-Pmr-CAp8bNA",
        "colab_type": "text"
      },
      "source": [
        "The image below depicts what the model would look like in this notebook.\n",
        "\n",
        "<img src=\"https://raw.githubusercontent.com/deep-diver/CIFAR10-img-classification-tensorflow/master/conv_model.png\" alt=\"Drawing\" style=\"width: 1000px;\"/>"
      ]
    },
    {
      "cell_type": "markdown",
      "metadata": {
        "id": "b9VPUoIh8bNB",
        "colab_type": "text"
      },
      "source": [
        "### Part 4.1: Prepare Input for the Model"
      ]
    },
    {
      "cell_type": "code",
      "metadata": {
        "id": "HOGIrzyF8bNC",
        "colab_type": "code",
        "colab": {}
      },
      "source": [
        "import tensorflow as tf\n",
        "\n",
        "# Remove previous weights, bias, inputs, etc..\n",
        "tf.reset_default_graph()\n",
        "\n",
        "# Inputs\n",
        "# A placeholder is simply a variable that we will assign data to at a later date.\n",
        "# It allows us to create our operations and build our computation graph, without needing the data. \n",
        "x = tf.placeholder(tf.float32, shape=(None, 32, 32, 3), name='input_x')\n",
        "y =  tf.placeholder(tf.float32, shape=(None, 10), name='output_y')\n",
        "keep_prob = tf.placeholder(tf.float32, name='keep_prob')"
      ],
      "execution_count": 0,
      "outputs": []
    },
    {
      "cell_type": "markdown",
      "metadata": {
        "id": "Uyog0xwP8bNF",
        "colab_type": "text"
      },
      "source": [
        "### Part 4.2: Create Convolutional Model"
      ]
    },
    {
      "cell_type": "markdown",
      "metadata": {
        "id": "XqJ2N-b-ytp6",
        "colab_type": "text"
      },
      "source": [
        "\n",
        "The entire model consists of 14 layers in total. In addition to layers below lists what techniques are applied to build the model.\n",
        "\n",
        "1. Convolution with 64 different filters in size of (3x3)\n",
        "2. Max Pooling by 2\n",
        "  - ReLU activation function \n",
        "  - Batch Normalization\n",
        "3. Convolution with 128 different filters in size of (3x3)\n",
        "4. Max Pooling by 2\n",
        "  - ReLU activation function \n",
        "  - Batch Normalization\n",
        "5. Convolution with 256 different filters in size of (3x3)\n",
        "6. Max Pooling by 2\n",
        "  - ReLU activation function \n",
        "  - Batch Normalization\n",
        "7. Convolution with 512 different filters in size of (3x3)\n",
        "8. Max Pooling by 2\n",
        "  - ReLU activation function \n",
        "  - Batch Normalization\n",
        "9. Flattening the 3-D output of the last convolutional operations.\n",
        "10. Fully Connected Layer with 128 units\n",
        "  - Dropout \n",
        "  - Batch Normalization\n",
        "11. Fully Connected Layer with 256 units\n",
        "  - Dropout \n",
        "  - Batch Normalization\n",
        "12. Fully Connected Layer with 512 units\n",
        "  - Dropout \n",
        "  - Batch Normalization\n",
        "13. Fully Connected Layer with 1024 units\n",
        "  - Dropout \n",
        "  - Batch Normalization\n",
        "14. Fully Connected Layer with 10 units (number of image classes)\n",
        "\n",
        "The image below decribes how the conceptual convolving operation differs from the tensorflow implementation when you use [Channel x Width x Height] tensor format. \n",
        "\n",
        "<img src=\"https://raw.githubusercontent.com/deep-diver/CIFAR10-img-classification-tensorflow/master/convolving.png\" alt=\"Drawing\" style=\"width: 1000px;\"/>"
      ]
    },
    {
      "cell_type": "markdown",
      "metadata": {
        "id": "DY6j2WiF8bM_",
        "colab_type": "text"
      },
      "source": [
        "Packages that contain APIs:\n",
        "\n",
        " tf.nn: lower level APIs for neural network\n",
        "  - each APIs under this package has its sole purpose\n",
        "  - you probably have to set lots of settings by yourself manually\n",
        "\n",
        "tf.layers: higher level APIs for neural network\n",
        "  - each APIs under this package probably has streamlined processes\n",
        "  - each APIs under this package comes with lots of default setting in arguments\n",
        "  \n",
        "tf.contrib: contrib module containing volatile or experimental code\n",
        "  - like the documents explain, this package provides experimental codes\n",
        "  - you could probably find more handy APIs\n",
        "  - you could look up this package when you don't find functionality under the main packages\n",
        "\n",
        "Steps:\n",
        "*   Define the dataflow graph\n",
        "*   Create a TensorFlow session to run parts of the graph across a set of local and remote devices.\n",
        "\n",
        "Here, we use APIs under each different packages.\n"
      ]
    },
    {
      "cell_type": "code",
      "metadata": {
        "id": "iezHmHUI8bNG",
        "colab_type": "code",
        "colab": {}
      },
      "source": [
        "def conv_net(x, keep_prob):\n",
        "    # Create a variable.\n",
        "    conv1_filter = tf.Variable(tf.truncated_normal(shape=[3, 3, 3, 64], mean=0, stddev=0.08))\n",
        "    conv2_filter = tf.Variable(tf.truncated_normal(shape=[3, 3, 64, 128], mean=0, stddev=0.08))\n",
        "    conv3_filter = tf.Variable(tf.truncated_normal(shape=[3, 3, 128, 256], mean=0, stddev=0.08))\n",
        "    conv4_filter = tf.Variable(tf.truncated_normal(shape=[3, 3, 256, 512], mean=0, stddev=0.08))\n",
        "\n",
        "    # 1, 2\n",
        "    conv1 = tf.nn.conv2d(x, conv1_filter, strides=[1,1,1,1], padding='SAME')\n",
        "    conv1 = tf.nn.relu(conv1)\n",
        "    conv1_pool = tf.nn.max_pool(conv1, ksize=[1,2,2,1], strides=[1,2,2,1], padding='SAME')\n",
        "    conv1_bn = tf.layers.batch_normalization(conv1_pool)\n",
        "\n",
        "    # 3, 4\n",
        "    conv2 = tf.nn.conv2d(conv1_bn, conv2_filter, strides=[1,1,1,1], padding='SAME')\n",
        "    conv2 = tf.nn.relu(conv2)\n",
        "    conv2_pool = tf.nn.max_pool(conv2, ksize=[1,2,2,1], strides=[1,2,2,1], padding='SAME')    \n",
        "    conv2_bn = tf.layers.batch_normalization(conv2_pool)\n",
        "  \n",
        "    # 5, 6\n",
        "    conv3 = tf.nn.conv2d(conv2_bn, conv3_filter, strides=[1,1,1,1], padding='SAME')\n",
        "    conv3 = tf.nn.relu(conv3)\n",
        "    conv3_pool = tf.nn.max_pool(conv3, ksize=[1,2,2,1], strides=[1,2,2,1], padding='SAME')  \n",
        "    conv3_bn = tf.layers.batch_normalization(conv3_pool)\n",
        "    \n",
        "    # 7, 8\n",
        "    conv4 = tf.nn.conv2d(conv3_bn, conv4_filter, strides=[1,1,1,1], padding='SAME')\n",
        "    conv4 = tf.nn.relu(conv4)\n",
        "    conv4_pool = tf.nn.max_pool(conv4, ksize=[1,2,2,1], strides=[1,2,2,1], padding='SAME')\n",
        "    conv4_bn = tf.layers.batch_normalization(conv4_pool)\n",
        "    \n",
        "    # 9\n",
        "    flat = tf.contrib.layers.flatten(conv4_bn)  \n",
        "\n",
        "    # 10\n",
        "    full1 = tf.contrib.layers.fully_connected(inputs=flat, num_outputs=128, activation_fn=tf.nn.relu)\n",
        "    full1 = tf.nn.dropout(full1, keep_prob)\n",
        "    full1 = tf.layers.batch_normalization(full1)\n",
        "    \n",
        "    # 11\n",
        "    full2 = tf.contrib.layers.fully_connected(inputs=full1, num_outputs=256, activation_fn=tf.nn.relu)\n",
        "    full2 = tf.nn.dropout(full2, keep_prob)\n",
        "    full2 = tf.layers.batch_normalization(full2)\n",
        "    \n",
        "    # 12\n",
        "    full3 = tf.contrib.layers.fully_connected(inputs=full2, num_outputs=512, activation_fn=tf.nn.relu)\n",
        "    full3 = tf.nn.dropout(full3, keep_prob)\n",
        "    full3 = tf.layers.batch_normalization(full3)    \n",
        "    \n",
        "    # 13\n",
        "    full4 = tf.contrib.layers.fully_connected(inputs=full3, num_outputs=1024, activation_fn=tf.nn.relu)\n",
        "    full4 = tf.nn.dropout(full4, keep_prob)\n",
        "    full4 = tf.layers.batch_normalization(full4)        \n",
        "    \n",
        "    # 14\n",
        "    out = tf.contrib.layers.fully_connected(inputs=full3, num_outputs=10, activation_fn=None)\n",
        "    return out"
      ],
      "execution_count": 0,
      "outputs": []
    },
    {
      "cell_type": "markdown",
      "metadata": {
        "id": "Uv5FBsPT8bNL",
        "colab_type": "text"
      },
      "source": [
        "### Part 4.3: Hyperparameters"
      ]
    },
    {
      "cell_type": "markdown",
      "metadata": {
        "id": "f0ZcEOuBzMG9",
        "colab_type": "text"
      },
      "source": [
        "* `epochs`: number of iterations until the network stops learning or start overfitting\n",
        "* `batch_size`: highest number that your machine has memory for.  Most people set them to common sizes of memory\n",
        "* `keep_probability`: probability of keeping a node using dropout\n",
        "* `learning_rate`: number how fast the model learns"
      ]
    },
    {
      "cell_type": "code",
      "metadata": {
        "id": "8MCzEsMF8bNM",
        "colab_type": "code",
        "colab": {}
      },
      "source": [
        "epochs = 10\n",
        "batch_size = 128\n",
        "keep_probability = 0.7\n",
        "learning_rate = 0.001"
      ],
      "execution_count": 0,
      "outputs": []
    },
    {
      "cell_type": "markdown",
      "metadata": {
        "id": "vXAieKEP8bNP",
        "colab_type": "text"
      },
      "source": [
        "### Part 4.4: Cost Function & Optimizer"
      ]
    },
    {
      "cell_type": "code",
      "metadata": {
        "id": "bLn_luQM8bNR",
        "colab_type": "code",
        "colab": {}
      },
      "source": [
        "logits = conv_net(x, keep_prob)\n",
        "\n",
        "model = tf.identity(logits, name='logits') # Name logits Tensor, so that can be loaded from disk after training\n",
        "\n",
        "# Loss and Optimizer\n",
        "cost = tf.reduce_mean(tf.nn.softmax_cross_entropy_with_logits(logits=logits, labels=y))\n",
        "optimizer = tf.train.AdamOptimizer(learning_rate=learning_rate).minimize(cost)\n",
        "\n",
        "# Accuracy\n",
        "correct_pred = tf.equal(tf.argmax(logits, 1), tf.argmax(y, 1))\n",
        "accuracy = tf.reduce_mean(tf.cast(correct_pred, tf.float32), name='accuracy')\n"
      ],
      "execution_count": 0,
      "outputs": []
    },
    {
      "cell_type": "markdown",
      "metadata": {
        "id": "AHWmqmGP8bNT",
        "colab_type": "text"
      },
      "source": [
        "## Part 5: Train the Neural Network"
      ]
    },
    {
      "cell_type": "markdown",
      "metadata": {
        "id": "LIgsDbmc2tbz",
        "colab_type": "text"
      },
      "source": [
        "### Part 5.1: Single Optimization"
      ]
    },
    {
      "cell_type": "code",
      "metadata": {
        "id": "mrtyV-wc8bNU",
        "colab_type": "code",
        "colab": {}
      },
      "source": [
        "def train_neural_network(session, optimizer, keep_probability, feature_batch, label_batch):\n",
        "    session.run(optimizer, \n",
        "                feed_dict={\n",
        "                    x: feature_batch,\n",
        "                    y: label_batch,\n",
        "                    keep_prob: keep_probability\n",
        "                })"
      ],
      "execution_count": 0,
      "outputs": []
    },
    {
      "cell_type": "code",
      "metadata": {
        "id": "zEH_hxGx8bNY",
        "colab_type": "code",
        "colab": {}
      },
      "source": [
        "# Show Stats\n",
        "def print_stats(session, feature_batch, label_batch, cost, accuracy):\n",
        "    loss = sess.run(cost, \n",
        "                    feed_dict={\n",
        "                        x: feature_batch,\n",
        "                        y: label_batch,\n",
        "                        keep_prob: 1.\n",
        "                    })\n",
        "    valid_acc = sess.run(accuracy, \n",
        "                         feed_dict={\n",
        "                             x: valid_features,\n",
        "                             y: valid_labels,\n",
        "                             keep_prob: 1.\n",
        "                         })\n",
        "    \n",
        "    print('Loss: {:>10.4f} Validation Accuracy: {:.6f}'.format(loss, valid_acc))"
      ],
      "execution_count": 0,
      "outputs": []
    },
    {
      "cell_type": "markdown",
      "metadata": {
        "id": "NCSIM6ACZOZ6",
        "colab_type": "text"
      },
      "source": [
        "### Part 5.2: Helper Functions"
      ]
    },
    {
      "cell_type": "code",
      "metadata": {
        "id": "10VrtpgHZTwo",
        "colab_type": "code",
        "colab": {}
      },
      "source": [
        "def batch_features_labels(features, labels, batch_size):\n",
        "    \"\"\"\n",
        "    Split features and labels into batches\n",
        "    \"\"\"\n",
        "    for start in range(0, len(features), batch_size):\n",
        "        end = min(start + batch_size, len(features))\n",
        "        yield features[start:end], labels[start:end]\n",
        "\n",
        "\n",
        "def load_preprocess_training_batch(batch_id, batch_size):\n",
        "    \"\"\"\n",
        "    Load the Preprocessed Training data and return them in batches of <batch_size> or less\n",
        "    \"\"\"\n",
        "    filename = 'preprocess_batch_' + str(batch_id) + '.p'\n",
        "    features, labels = pickle.load(open(filename, mode='rb'))\n",
        "\n",
        "    # Return the training data in batches of size <batch_size> or less\n",
        "    return batch_features_labels(features, labels, batch_size)"
      ],
      "execution_count": 0,
      "outputs": []
    },
    {
      "cell_type": "markdown",
      "metadata": {
        "id": "eMgwAcib8bNa",
        "colab_type": "text"
      },
      "source": [
        "### Part 5.3: Fully Train the Model"
      ]
    },
    {
      "cell_type": "code",
      "metadata": {
        "id": "I-jd2WnX8bNb",
        "colab_type": "code",
        "outputId": "46bd8c9c-afc3-49a8-902d-5beb8b54c91b",
        "colab": {
          "base_uri": "https://localhost:8080/",
          "height": 884
        }
      },
      "source": [
        "save_model_path = './image_classification'\n",
        "\n",
        "print('Training...')\n",
        "with tf.Session() as sess:\n",
        "    # Initializing the variables\n",
        "    sess.run(tf.global_variables_initializer())\n",
        "    \n",
        "    # Training cycle\n",
        "    for epoch in range(epochs):\n",
        "        # Loop over all batches\n",
        "        n_batches = 5\n",
        "        for batch_i in range(1, n_batches + 1):\n",
        "            print('Epoch {:>2}, CIFAR-10 Batch {}:  '.format(epoch + 1, batch_i), end='')\n",
        "            for batch_features, batch_labels in load_preprocess_training_batch(batch_i, batch_size):\n",
        "                train_neural_network(sess, optimizer, keep_probability, batch_features, batch_labels)\n",
        "                      \n",
        "            print_stats(sess, batch_features, batch_labels, cost, accuracy)\n",
        "            \n",
        "    # Save Model\n",
        "    saver = tf.train.Saver()\n",
        "    save_path = saver.save(sess, save_model_path)"
      ],
      "execution_count": 0,
      "outputs": [
        {
          "output_type": "stream",
          "text": [
            "Training...\n",
            "Epoch  1, CIFAR-10 Batch 1:  Loss:     2.2276 Validation Accuracy: 0.243000\n",
            "Epoch  1, CIFAR-10 Batch 2:  Loss:     1.8103 Validation Accuracy: 0.261800\n",
            "Epoch  1, CIFAR-10 Batch 3:  Loss:     1.4794 Validation Accuracy: 0.370800\n",
            "Epoch  1, CIFAR-10 Batch 4:  Loss:     1.6332 Validation Accuracy: 0.415200\n",
            "Epoch  1, CIFAR-10 Batch 5:  Loss:     1.5089 Validation Accuracy: 0.447600\n",
            "Epoch  2, CIFAR-10 Batch 1:  Loss:     1.3993 Validation Accuracy: 0.499800\n",
            "Epoch  2, CIFAR-10 Batch 2:  Loss:     1.1814 Validation Accuracy: 0.497400\n",
            "Epoch  2, CIFAR-10 Batch 3:  Loss:     1.2079 Validation Accuracy: 0.512600\n",
            "Epoch  2, CIFAR-10 Batch 4:  Loss:     1.2182 Validation Accuracy: 0.534200\n",
            "Epoch  2, CIFAR-10 Batch 5:  Loss:     0.9704 Validation Accuracy: 0.588800\n",
            "Epoch  3, CIFAR-10 Batch 1:  Loss:     0.9372 Validation Accuracy: 0.611200\n",
            "Epoch  3, CIFAR-10 Batch 2:  Loss:     0.8054 Validation Accuracy: 0.613400\n",
            "Epoch  3, CIFAR-10 Batch 3:  Loss:     0.7066 Validation Accuracy: 0.640800\n",
            "Epoch  3, CIFAR-10 Batch 4:  Loss:     0.8174 Validation Accuracy: 0.648200\n",
            "Epoch  3, CIFAR-10 Batch 5:  Loss:     0.6835 Validation Accuracy: 0.634400\n",
            "Epoch  4, CIFAR-10 Batch 1:  Loss:     0.6493 Validation Accuracy: 0.661000\n",
            "Epoch  4, CIFAR-10 Batch 2:  Loss:     0.5274 Validation Accuracy: 0.671000\n",
            "Epoch  4, CIFAR-10 Batch 3:  Loss:     0.3347 Validation Accuracy: 0.679800\n",
            "Epoch  4, CIFAR-10 Batch 4:  Loss:     0.5760 Validation Accuracy: 0.667600\n",
            "Epoch  4, CIFAR-10 Batch 5:  Loss:     0.4191 Validation Accuracy: 0.674800\n",
            "Epoch  5, CIFAR-10 Batch 1:  Loss:     0.3468 Validation Accuracy: 0.702200\n",
            "Epoch  5, CIFAR-10 Batch 2:  Loss:     0.2994 Validation Accuracy: 0.698600\n",
            "Epoch  5, CIFAR-10 Batch 3:  Loss:     0.2425 Validation Accuracy: 0.712400\n",
            "Epoch  5, CIFAR-10 Batch 4:  Loss:     0.3891 Validation Accuracy: 0.710000\n",
            "Epoch  5, CIFAR-10 Batch 5:  Loss:     0.2545 Validation Accuracy: 0.720000\n",
            "Epoch  6, CIFAR-10 Batch 1:  Loss:     0.2547 Validation Accuracy: 0.712200\n",
            "Epoch  6, CIFAR-10 Batch 2:  Loss:     0.2193 Validation Accuracy: 0.717400\n",
            "Epoch  6, CIFAR-10 Batch 3:  Loss:     0.1306 Validation Accuracy: 0.695400\n",
            "Epoch  6, CIFAR-10 Batch 4:  Loss:     0.2989 Validation Accuracy: 0.707400\n",
            "Epoch  6, CIFAR-10 Batch 5:  Loss:     0.1492 Validation Accuracy: 0.714800\n",
            "Epoch  7, CIFAR-10 Batch 1:  Loss:     0.1854 Validation Accuracy: 0.708600\n",
            "Epoch  7, CIFAR-10 Batch 2:  Loss:     0.1328 Validation Accuracy: 0.724200\n",
            "Epoch  7, CIFAR-10 Batch 3:  Loss:     0.0665 Validation Accuracy: 0.725800\n",
            "Epoch  7, CIFAR-10 Batch 4:  Loss:     0.1470 Validation Accuracy: 0.720800\n",
            "Epoch  7, CIFAR-10 Batch 5:  Loss:     0.0695 Validation Accuracy: 0.710400\n",
            "Epoch  8, CIFAR-10 Batch 1:  Loss:     0.1620 Validation Accuracy: 0.722000\n",
            "Epoch  8, CIFAR-10 Batch 2:  Loss:     0.0745 Validation Accuracy: 0.755600\n",
            "Epoch  8, CIFAR-10 Batch 3:  Loss:     0.0418 Validation Accuracy: 0.733800\n",
            "Epoch  8, CIFAR-10 Batch 4:  Loss:     0.0935 Validation Accuracy: 0.725400\n",
            "Epoch  8, CIFAR-10 Batch 5:  Loss:     0.0399 Validation Accuracy: 0.731400\n",
            "Epoch  9, CIFAR-10 Batch 1:  Loss:     0.1086 Validation Accuracy: 0.715000\n",
            "Epoch  9, CIFAR-10 Batch 2:  Loss:     0.0861 Validation Accuracy: 0.710400\n",
            "Epoch  9, CIFAR-10 Batch 3:  Loss:     0.0331 Validation Accuracy: 0.723000\n",
            "Epoch  9, CIFAR-10 Batch 4:  Loss:     0.1145 Validation Accuracy: 0.726600\n",
            "Epoch  9, CIFAR-10 Batch 5:  Loss:     0.0884 Validation Accuracy: 0.721200\n",
            "Epoch 10, CIFAR-10 Batch 1:  Loss:     0.0763 Validation Accuracy: 0.725000\n",
            "Epoch 10, CIFAR-10 Batch 2:  Loss:     0.0317 Validation Accuracy: 0.730600\n",
            "Epoch 10, CIFAR-10 Batch 3:  Loss:     0.0213 Validation Accuracy: 0.740200\n",
            "Epoch 10, CIFAR-10 Batch 4:  Loss:     0.0353 Validation Accuracy: 0.745000\n",
            "Epoch 10, CIFAR-10 Batch 5:  Loss:     0.0325 Validation Accuracy: 0.749200\n"
          ],
          "name": "stdout"
        }
      ]
    },
    {
      "cell_type": "markdown",
      "metadata": {
        "id": "oolRwRCh8bNf",
        "colab_type": "text"
      },
      "source": [
        "## Part 6: Test Model"
      ]
    },
    {
      "cell_type": "code",
      "metadata": {
        "id": "i1dvsqrL8bNi",
        "colab_type": "code",
        "colab": {}
      },
      "source": [
        "%matplotlib inline\n",
        "%config InlineBackend.figure_format = 'retina'\n",
        "\n",
        "import tensorflow as tf\n",
        "import pickle\n",
        "import random\n",
        "from sklearn.preprocessing import LabelBinarizer\n",
        "\n",
        "save_model_path = './image_classification'\n",
        "batch_size = 64\n",
        "n_samples = 5\n",
        "top_n_predictions = 3\n",
        "\n",
        "\n",
        "def batch_features_labels(features, labels, batch_size):\n",
        "    \"\"\"\n",
        "    Split features and labels into batches\n",
        "    \"\"\"\n",
        "    for start in range(0, len(features), batch_size):\n",
        "        end = min(start + batch_size, len(features))\n",
        "        yield features[start:end], labels[start:end]\n",
        "\n",
        "\n",
        "def display_image_predictions(features, labels, predictions, n_samples=10, n_predictions=3):\n",
        "    n_classes = 10\n",
        "    label_names = load_label_names()\n",
        "    label_binarizer = LabelBinarizer()\n",
        "    label_binarizer.fit(range(n_classes))\n",
        "    label_ids = label_binarizer.inverse_transform(np.array(labels))\n",
        "\n",
        "    fig, axies = plt.subplots(nrows=n_samples, ncols=2, figsize=(10,10))\n",
        "    fig.tight_layout()\n",
        "    fig.suptitle('Softmax Predictions', fontsize=20, y=1.1)\n",
        "\n",
        "    # n_predictions = 3\n",
        "    margin = 0.05\n",
        "    ind = np.arange(n_predictions)\n",
        "    width = (1. - 2. * margin) / n_predictions\n",
        "\n",
        "    for image_i, (feature, label_id, pred_indicies, pred_values) in enumerate(zip(features, label_ids, predictions.indices, predictions.values)):\n",
        "        pred_names = [label_names[pred_i] for pred_i in pred_indicies]\n",
        "        correct_name = label_names[label_id]\n",
        "        \n",
        "        # print(image_i)\n",
        "        # print(ind + margin)\n",
        "        # print(pred_values[::-1])\n",
        "        # print(width)\n",
        "        \n",
        "        axies[image_i][0].imshow(feature*255)\n",
        "        axies[image_i][0].set_title(correct_name)\n",
        "        axies[image_i][0].set_axis_off()\n",
        "        \n",
        "        \n",
        "        axies[image_i][1].barh(ind + margin, pred_values[::-1], width)\n",
        "        axies[image_i][1].set_yticks(ind + margin)\n",
        "        axies[image_i][1].set_yticklabels(pred_names[::-1])\n",
        "        axies[image_i][1].set_xticks([0, 0.5, 1.0])\n",
        "\n",
        "        \n",
        "def test_model(n_samples=10, top_n_predictions=3):\n",
        "    test_features, test_labels = pickle.load(open('preprocess_training.p', mode='rb'))\n",
        "    loaded_graph = tf.Graph()\n",
        "\n",
        "    with tf.Session(graph=loaded_graph) as sess:\n",
        "        # Load model\n",
        "        loader = tf.train.import_meta_graph(save_model_path + '.meta')\n",
        "        loader.restore(sess, save_model_path)\n",
        "\n",
        "        # Get Tensors from loaded model\n",
        "        loaded_x = loaded_graph.get_tensor_by_name('input_x:0')\n",
        "        loaded_y = loaded_graph.get_tensor_by_name('output_y:0')\n",
        "        loaded_keep_prob = loaded_graph.get_tensor_by_name('keep_prob:0')\n",
        "        loaded_logits = loaded_graph.get_tensor_by_name('logits:0')\n",
        "        loaded_acc = loaded_graph.get_tensor_by_name('accuracy:0')\n",
        "        \n",
        "        # Get accuracy in batches for memory limitations\n",
        "        test_batch_acc_total = 0\n",
        "        test_batch_count = 0\n",
        "        \n",
        "        for train_feature_batch, train_label_batch in batch_features_labels(test_features, test_labels, batch_size):\n",
        "            test_batch_acc_total += sess.run(\n",
        "                loaded_acc,\n",
        "                feed_dict={loaded_x: train_feature_batch, loaded_y: train_label_batch, loaded_keep_prob: 1.0})\n",
        "            test_batch_count += 1\n",
        "\n",
        "        print('Testing Accuracy: {}\\n'.format(test_batch_acc_total/test_batch_count))\n",
        "\n",
        "        # Print Random Samples\n",
        "        random_test_features, random_test_labels = tuple(zip(*random.sample(list(zip(test_features, test_labels)), n_samples)))\n",
        "        \n",
        "        random_test_predictions = sess.run(\n",
        "            tf.nn.top_k(tf.nn.softmax(loaded_logits), top_n_predictions),\n",
        "            feed_dict={loaded_x: random_test_features, loaded_y: random_test_labels, loaded_keep_prob: 1.0})\n",
        "         \n",
        "        display_image_predictions(random_test_features, random_test_labels, random_test_predictions, n_samples, top_n_predictions)\n",
        "\n",
        "\n"
      ],
      "execution_count": 0,
      "outputs": []
    },
    {
      "cell_type": "code",
      "metadata": {
        "id": "fjQU8tMnfM3h",
        "colab_type": "code",
        "outputId": "a292a54c-2c93-4cdf-91c1-3b786280d2c0",
        "colab": {
          "base_uri": "https://localhost:8080/",
          "height": 948
        }
      },
      "source": [
        "test_model(n_samples, top_n_predictions)"
      ],
      "execution_count": 0,
      "outputs": [
        {
          "output_type": "stream",
          "text": [
            "INFO:tensorflow:Restoring parameters from ./image_classification\n",
            "Testing Accuracy: 0.7318869426751592\n",
            "\n"
          ],
          "name": "stdout"
        },
        {
          "output_type": "stream",
          "text": [
            "Clipping input data to the valid range for imshow with RGB data ([0..1] for floats or [0..255] for integers).\n",
            "Clipping input data to the valid range for imshow with RGB data ([0..1] for floats or [0..255] for integers).\n",
            "Clipping input data to the valid range for imshow with RGB data ([0..1] for floats or [0..255] for integers).\n",
            "Clipping input data to the valid range for imshow with RGB data ([0..1] for floats or [0..255] for integers).\n",
            "Clipping input data to the valid range for imshow with RGB data ([0..1] for floats or [0..255] for integers).\n"
          ],
          "name": "stderr"
        },
        {
          "output_type": "display_data",
          "data": {
            "image/png": "[encoded data removed]",
            "text/plain": [
              "<Figure size 720x720 with 10 Axes>"
            ]
          },
          "metadata": {
            "tags": [],
            "image/png": {
              "width": 585,
              "height": 795
            }
          }
        }
      ]
    }
  ]
}